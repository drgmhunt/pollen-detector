{
 "cells": [
  {
   "cell_type": "markdown",
   "id": "b5f1db76",
   "metadata": {},
   "source": [
    "Notebook to apply object detection model to a ground truth TFRecord, process results and calculate confusion matrix, precision and recall\n",
    "\n",
    "Based on scripts from:\n",
    "\n",
    "Object detection process adapted from https://github.com/tensorflow/models/blob/master/research/object_detection/inference/infer_detections.py\n",
    "\n",
    "Confusion matrix code adapted from https://github.com/svpino/tf_object_detection_cm/blob/master/confusion_matrix.py\n",
    "\n"
   ]
  },
  {
   "cell_type": "code",
   "execution_count": 1,
   "id": "5d8067fc",
   "metadata": {},
   "outputs": [],
   "source": [
    "import numpy as np\n",
    "import os,time\n",
    "from object_detection.utils import label_map_util\n",
    "import pandas as pd\n",
    "from matplotlib import pyplot as plt\n",
    "import seaborn as sns\n",
    "import itertools\n",
    "import tensorflow.compat.v1 as tf\n",
    "from object_detection.inference import detection_inference"
   ]
  },
  {
   "cell_type": "code",
   "execution_count": 2,
   "id": "953d414c",
   "metadata": {},
   "outputs": [
    {
     "name": "stdout",
     "output_type": "stream",
     "text": [
      "Requirement already satisfied: seaborn in c:\\users\\drgmh\\anaconda3\\envs\\tensorflow\\lib\\site-packages (0.11.2)\n",
      "Requirement already satisfied: matplotlib>=2.2 in c:\\users\\drgmh\\anaconda3\\envs\\tensorflow\\lib\\site-packages (from seaborn) (3.5.2)\n",
      "Requirement already satisfied: numpy>=1.15 in c:\\users\\drgmh\\anaconda3\\envs\\tensorflow\\lib\\site-packages (from seaborn) (1.22.3)\n",
      "Requirement already satisfied: pandas>=0.23 in c:\\users\\drgmh\\anaconda3\\envs\\tensorflow\\lib\\site-packages (from seaborn) (1.4.2)\n",
      "Requirement already satisfied: scipy>=1.0 in c:\\users\\drgmh\\anaconda3\\envs\\tensorflow\\lib\\site-packages (from seaborn) (1.8.1)\n",
      "Requirement already satisfied: packaging>=20.0 in c:\\users\\drgmh\\anaconda3\\envs\\tensorflow\\lib\\site-packages (from matplotlib>=2.2->seaborn) (21.3)\n",
      "Requirement already satisfied: fonttools>=4.22.0 in c:\\users\\drgmh\\anaconda3\\envs\\tensorflow\\lib\\site-packages (from matplotlib>=2.2->seaborn) (4.33.3)\n",
      "Requirement already satisfied: python-dateutil>=2.7 in c:\\users\\drgmh\\anaconda3\\envs\\tensorflow\\lib\\site-packages (from matplotlib>=2.2->seaborn) (2.8.2)\n",
      "Requirement already satisfied: cycler>=0.10 in c:\\users\\drgmh\\anaconda3\\envs\\tensorflow\\lib\\site-packages (from matplotlib>=2.2->seaborn) (0.11.0)\n",
      "Requirement already satisfied: pillow>=6.2.0 in c:\\users\\drgmh\\anaconda3\\envs\\tensorflow\\lib\\site-packages (from matplotlib>=2.2->seaborn) (9.1.1)\n",
      "Requirement already satisfied: kiwisolver>=1.0.1 in c:\\users\\drgmh\\anaconda3\\envs\\tensorflow\\lib\\site-packages (from matplotlib>=2.2->seaborn) (1.4.2)\n",
      "Requirement already satisfied: pyparsing>=2.2.1 in c:\\users\\drgmh\\anaconda3\\envs\\tensorflow\\lib\\site-packages (from matplotlib>=2.2->seaborn) (2.4.7)\n",
      "Requirement already satisfied: pytz>=2020.1 in c:\\users\\drgmh\\anaconda3\\envs\\tensorflow\\lib\\site-packages (from pandas>=0.23->seaborn) (2022.1)\n",
      "Requirement already satisfied: six>=1.5 in c:\\users\\drgmh\\anaconda3\\envs\\tensorflow\\lib\\site-packages (from python-dateutil>=2.7->matplotlib>=2.2->seaborn) (1.16.0)\n",
      "Note: you may need to restart the kernel to use updated packages.\n"
     ]
    }
   ],
   "source": [
    "pip install seaborn"
   ]
  },
  {
   "cell_type": "code",
   "execution_count": 3,
   "id": "6303b66f",
   "metadata": {},
   "outputs": [],
   "source": [
    "def compute_iou(groundtruth_box, detection_box):\n",
    "    g_ymin, g_xmin, g_ymax, g_xmax = tuple(groundtruth_box)\n",
    "    d_ymin, d_xmin, d_ymax, d_xmax = tuple(detection_box)\n",
    "    \n",
    "    xa = max(g_xmin, d_xmin)\n",
    "    ya = max(g_ymin, d_ymin)\n",
    "    xb = min(g_xmax, d_xmax)\n",
    "    yb = min(g_ymax, d_ymax)\n",
    "\n",
    "    intersection = max(0, xb - xa + 1) * max(0, yb - ya + 1)\n",
    "\n",
    "    boxAArea = (g_xmax - g_xmin + 1) * (g_ymax - g_ymin + 1)\n",
    "    boxBArea = (d_xmax - d_xmin + 1) * (d_ymax - d_ymin + 1)\n",
    "\n",
    "    return intersection / float(boxAArea + boxBArea - intersection)"
   ]
  },
  {
   "cell_type": "code",
   "execution_count": 4,
   "id": "4b392a6e",
   "metadata": {},
   "outputs": [],
   "source": [
    "\n",
    "def display(confusion_matrix, categories, output_path,METRICS_TITLE):\n",
    "    '''\n",
    "    Displays confusion matrix as pandas df to terminal and saves as CSV\n",
    "    Args:\n",
    "      confusion_matrix: matrix to be displayed\n",
    "      categories: ordered array of class IDs\n",
    "      output_path: where to save CSV\n",
    "    '''\n",
    "    print(METRICS_TITLE)\n",
    "    #print('\\nConfusion Matrix:')\n",
    "    #print(confusion_matrix, '\\n')\n",
    "    results = []\n",
    "\n",
    "    for i in range(len(categories)):\n",
    "        id = categories[i]['id'] - 1\n",
    "        name = categories[i]['name']\n",
    "        \n",
    "        total_target = np.sum(confusion_matrix[id,:])\n",
    "        total_predicted = np.sum(confusion_matrix[:,id])\n",
    "        \n",
    "        precision = float(confusion_matrix[id, id] / total_predicted)\n",
    "        recall = float(confusion_matrix[id, id] / total_target)\n",
    "        \n",
    "        results.append({'category' : name, f'precision_@{IOU_THRESHOLD}IOU' : precision, f'recall_@{IOU_THRESHOLD}IOU' : recall})\n",
    "    \n",
    "    df = pd.DataFrame(results)\n",
    "    print (\"Precision/recall Table\")\n",
    "    print(df)\n",
    "    df.to_csv(output_path,mode='a')\n",
    "    \n"
   ]
  },
  {
   "cell_type": "code",
   "execution_count": 5,
   "id": "842926dd",
   "metadata": {},
   "outputs": [],
   "source": [
    "#plot confusion matrix with matpolotlib/seaborn\n",
    "\n",
    "def plot_confusion(confusion_matrix, categories,output_path):\n",
    "    label_list=[]\n",
    "    for label in categories:\n",
    "        label_list.append(label[\"name\"])\n",
    "    #print(label_list)\n",
    "\n",
    "    conf_mat_df=pd.DataFrame(confusion_matrix, columns=label_list+[\"FN\"],index=label_list+[\"FP\"])\n",
    "    print(conf_mat_df)\n",
    "    conf_mat_df.to_csv(output_path,mode='a')\n",
    "    figure = plt.figure(figsize=(8, 8))\n",
    "## Ticket labels - List must be in alphabetical order\n",
    "\n",
    "    ax=sns.heatmap(conf_mat_df, annot=True,cmap='Blues')\n",
    "    ax.set_title('Confusion Matrix with labels\\n\\n');\n",
    "    ax.set_xlabel('\\nPredicted Values')\n",
    "    ax.set_ylabel('Actual Values ');\n",
    "    ax.xaxis.tick_top()\n",
    "\n",
    "    plt.tight_layout()\n",
    "    plt.ylabel('True label')\n",
    "    plt.xlabel('Predicted label')\n",
    "    plt.show()"
   ]
  },
  {
   "cell_type": "code",
   "execution_count": 6,
   "id": "7e16a407",
   "metadata": {},
   "outputs": [],
   "source": [
    "def run_inference(GROUND_TRUTH_TFRECORD,MODEL_FILE,DETECTION_TFRECORD):\n",
    "    tf.logging.set_verbosity(tf.logging.INFO)\n",
    "\n",
    "    with tf.Session() as sess:\n",
    "        input_tfrecord_paths = [\n",
    "            v for v in GROUND_TRUTH_TFRECORD.split(',') if v]\n",
    "        print('Reading input from ', GROUND_TRUTH_TFRECORD)\n",
    "        serialized_example_tensor, image_tensor = detection_inference.build_input(\n",
    "                    input_tfrecord_paths)\n",
    "        #tf.logging.info('Reading graph and building model...')\n",
    "        (detected_boxes_tensor, detected_scores_tensor,\n",
    "         detected_labels_tensor) = detection_inference.build_inference_graph(\n",
    "             image_tensor, MODEL_FILE)\n",
    "\n",
    "       # tf.logging.info('Running inference and writing output to {}'.format(\n",
    "        #    DETECTION_TFRECORD))\n",
    "        sess.run(tf.local_variables_initializer())\n",
    "        tf.train.start_queue_runners()\n",
    "        with tf.python_io.TFRecordWriter(\n",
    "            DETECTION_TFRECORD) as tf_record_writer:\n",
    "              try:\n",
    "                counter=0\n",
    "                start=time.time()\n",
    "                for counter in itertools.count():\n",
    "                  tf.logging.log_every_n(tf.logging.INFO, 'Processed %d images...', 10,\n",
    "                                 counter)\n",
    "                  tf_example = detection_inference.infer_detections_and_add_to_example(\n",
    "                  serialized_example_tensor, detected_boxes_tensor,\n",
    "                  detected_scores_tensor, detected_labels_tensor,\n",
    "                  True)\n",
    "                  tf_record_writer.write(tf_example.SerializeToString())\n",
    "              except tf.errors.OutOfRangeError:\n",
    "                end=time.time()\n",
    "                print('Finished processing ',counter,' records',\"Started:\",start,\"Finished:\",end,\"Duration:\",end-start,\"Time per image:\",(end-start)/counter)"
   ]
  },
  {
   "cell_type": "code",
   "execution_count": 7,
   "id": "9763b44a",
   "metadata": {
    "scrolled": false
   },
   "outputs": [],
   "source": [
    "def calculate_confusion(DETECTION_TFRECORD,LABEL_MAP_FILE,CONFIDENCE_THRESHOLD,IOU_THRESHOLD):\n",
    "    print('in calculate',DETECTION_TFRECORD)\n",
    "    raw_dataset = tf.data.TFRecordDataset(DETECTION_TFRECORD)\n",
    "\n",
    "    tf.compat.v1.enable_eager_execution\n",
    "    result = {}\n",
    "\n",
    "    len_tf=sum(1 for _ in tf.data.TFRecordDataset(DETECTION_TFRECORD))\n",
    "    image_index=1\n",
    "    min_threshold=CONFIDENCE_THRESHOLD\n",
    "\n",
    "    # Get class names\n",
    "    label_map  = label_map_util.load_labelmap(LABEL_MAP_FILE)\n",
    "    categories = label_map_util.convert_label_map_to_categories(label_map, max_num_classes=100, use_display_name=True)\n",
    "\n",
    "    confusion_matrix = np.zeros(shape=(len(categories) + 1, len(categories) + 1))\n",
    "\n",
    "    while image_index<=len_tf:\n",
    "        for raw_record in raw_dataset.take(image_index):\n",
    "            example = tf.train.Example()\n",
    "            example.ParseFromString(raw_record.numpy())\n",
    "            image_index=image_index+1\n",
    "            result = {}\n",
    "            for key, feature in example.features.feature.items():\n",
    "                kind = feature.WhichOneof('kind')\n",
    "                result[key] = np.array(getattr(feature, kind).value)\n",
    "        \n",
    "            scores=result['image/detection/score']\n",
    "            labels=result['image/detection/label']\n",
    "            xmax=result['image/detection/bbox/xmax']\n",
    "            xmin=result['image/detection/bbox/xmin']\n",
    "            ymax=result['image/detection/bbox/ymax']\n",
    "            ymin=result['image/detection/bbox/ymin']\n",
    "       \n",
    "            det_xmax = xmax[scores > min_threshold]\n",
    "            det_xmin = xmin[scores > min_threshold]\n",
    "            det_ymax = ymax[scores > min_threshold]\n",
    "            det_ymin = ymin[scores > min_threshold]\n",
    "        \n",
    "            detection_classes=labels[scores > min_threshold] \n",
    "            groundtruth_classes=result['image/object/class/label']\n",
    "            detection_box_array=[np.empty(len(det_xmax),dtype=object)]\n",
    "            bbox=[]\n",
    "            gtbbox=[]\n",
    "        \n",
    "            j=0\n",
    "            while j<len(det_xmax):\n",
    "                k=[ det_ymin[j], det_xmin[j], det_ymax[j],det_xmax[j ]]\n",
    "                bbox.append(k)\n",
    "                j=j+1\n",
    "        \n",
    "            detection_box_array=np.array(bbox)\n",
    "            detection_boxes=bbox\n",
    "        \n",
    "            groundtruth_box_array=[np.empty(len(result['image/object/bbox/xmax']),dtype=object)]\n",
    "            j=0\n",
    "            while j<len(result['image/object/bbox/xmax']):\n",
    "                k=[ result['image/object/bbox/ymin'][j], result['image/object/bbox/xmin'][j], result['image/object/bbox/ymax'][j],result['image/object/bbox/xmax'][j ]]\n",
    "                gtbbox.append(k)\n",
    "                j=j+1\n",
    "            groundtruth_boxes=np.array(bbox)\n",
    "            #print(\"ground truth boxes\",groundtruth_boxes,\"length\",len(groundtruth_boxes))\n",
    "            groundtruth_boxes=gtbbox\n",
    "        \n",
    "            matches=[]\n",
    "            i=0\n",
    "            j=0\n",
    "            for i, groundtruth_box in enumerate(groundtruth_boxes):\n",
    "                for j, detection_box in enumerate(detection_boxes):\n",
    "                    iou = compute_iou(groundtruth_box, detection_box)\n",
    "                    if iou > IOU_THRESHOLD:\n",
    "                        matches.append([i, j, iou])\n",
    "\n",
    "            matches = np.array(matches)\n",
    "       \n",
    "            if matches.shape[0] > 0:\n",
    "                # Sort list of matches by descending IOU so we can remove duplicate detections\n",
    "                # while keeping the highest IOU entry.\n",
    "                matches = matches[matches[:, 2].argsort()[::-1][:len(matches)]]\n",
    "\n",
    "                # Remove duplicate detections from the list.\n",
    "                matches = matches[np.unique(matches[:,1], return_index=True)[1]]\n",
    "\n",
    "                # Sort the list again by descending IOU. Removing duplicates doesn't preserve\n",
    "                # our previous sort.\n",
    "                matches = matches[matches[:, 2].argsort()[::-1][:len(matches)]]\n",
    "\n",
    "                # Remove duplicate ground truths from the list.\n",
    "                matches = matches[np.unique(matches[:,0], return_index=True)[1]]\n",
    "\n",
    "                # Remove duplicate ground truths from the list.\n",
    "                matches = matches[np.unique(matches[:,0], return_index=True)[1]]\n",
    "\n",
    "            for i in range(len(groundtruth_boxes)):\n",
    "                if matches.shape[0] > 0 and matches[matches[:,0] == i].shape[0] == 1:\n",
    "                    confusion_matrix[groundtruth_classes[i] - 1][int(detection_classes[int(matches[matches[:,0] == i, 1][0])] - 1)] += 1\n",
    "                else:\n",
    "                    confusion_matrix[groundtruth_classes[i] - 1][confusion_matrix.shape[1] - 1] += 1\n",
    "\n",
    "            for i in range(len(detection_boxes)):\n",
    "                if matches.shape[0] > 0 and matches[matches[:,1] == i].shape[0] == 0:\n",
    "                    confusion_matrix[confusion_matrix.shape[0] - 1][int(detection_classes[i] - 1)] += 1\n",
    "        \n",
    "    return confusion_matrix,categories\n",
    "        "
   ]
  },
  {
   "cell_type": "code",
   "execution_count": 11,
   "id": "4e277bf5",
   "metadata": {},
   "outputs": [],
   "source": [
    "GROUND_TRUTH_TFRECORD=r'C:\\Users\\drgmh\\Documents\\University\\pollen project\\training runs\\benchmark 1\\Test-Set-for-Models.tfrecord'\n",
    "DETECTION_TFRECORD=\"detections.tfrecord\"\n",
    "OUTPUT_CONFUSION_DATA=r'C:\\Users\\drgmh\\Documents\\University\\pollen project\\training runs\\uk 4 augmented\\UK 4 Plus vs BM1 26aug2022.csv'\n",
    "MODEL_FILE=r'C:\\Users\\drgmh\\Documents\\University\\pollen project\\training runs\\uk 4 augmented\\frozen_inference_graph (3).pb'\n",
    "LABEL_MAP_FILE=r'C:\\Users\\drgmh\\Documents\\University\\pollen project\\training runs\\uk 4 augmented\\UK-Pollen-species_label_map.pbtxt'\n",
    "\n",
    "\n",
    "CONFIDENCE_THRESHOLD=.8\n",
    "\n",
    "METRICS_TITLE=\"UK 4 Species - Reference Data Only - metrics against BM 1\""
   ]
  },
  {
   "cell_type": "code",
   "execution_count": 9,
   "id": "da5f637e",
   "metadata": {},
   "outputs": [
    {
     "name": "stdout",
     "output_type": "stream",
     "text": [
      "Reading input from  C:\\Users\\drgmh\\Documents\\University\\pollen project\\training runs\\benchmark 1\\Test-Set-for-Models.tfrecord\n",
      "WARNING:tensorflow:From C:\\Users\\drgmh\\anaconda3\\envs\\tensorflow\\lib\\site-packages\\object_detection\\inference\\detection_inference.py:34: string_input_producer (from tensorflow.python.training.input) is deprecated and will be removed in a future version.\n",
      "Instructions for updating:\n",
      "Queue-based input pipelines have been replaced by `tf.data`. Use `tf.data.Dataset.from_tensor_slices(string_tensor).shuffle(tf.shape(input_tensor, out_type=tf.int64)[0]).repeat(num_epochs)`. If `shuffle=False`, omit the `.shuffle(...)`.\n",
      "WARNING:tensorflow:From C:\\Users\\drgmh\\anaconda3\\envs\\tensorflow\\lib\\site-packages\\tensorflow\\python\\training\\input.py:262: input_producer (from tensorflow.python.training.input) is deprecated and will be removed in a future version.\n",
      "Instructions for updating:\n",
      "Queue-based input pipelines have been replaced by `tf.data`. Use `tf.data.Dataset.from_tensor_slices(input_tensor).shuffle(tf.shape(input_tensor, out_type=tf.int64)[0]).repeat(num_epochs)`. If `shuffle=False`, omit the `.shuffle(...)`.\n",
      "WARNING:tensorflow:From C:\\Users\\drgmh\\anaconda3\\envs\\tensorflow\\lib\\site-packages\\tensorflow\\python\\training\\input.py:184: limit_epochs (from tensorflow.python.training.input) is deprecated and will be removed in a future version.\n",
      "Instructions for updating:\n",
      "Queue-based input pipelines have been replaced by `tf.data`. Use `tf.data.Dataset.from_tensors(tensor).repeat(num_epochs)`.\n",
      "WARNING:tensorflow:From C:\\Users\\drgmh\\anaconda3\\envs\\tensorflow\\lib\\site-packages\\tensorflow\\python\\training\\input.py:107: BaseResourceVariable.count_up_to (from tensorflow.python.ops.resource_variable_ops) is deprecated and will be removed in a future version.\n",
      "Instructions for updating:\n",
      "Prefer Dataset.range instead.\n",
      "WARNING:tensorflow:From C:\\Users\\drgmh\\anaconda3\\envs\\tensorflow\\lib\\site-packages\\tensorflow\\python\\training\\input.py:192: QueueRunner.__init__ (from tensorflow.python.training.queue_runner_impl) is deprecated and will be removed in a future version.\n",
      "Instructions for updating:\n",
      "To construct input pipelines, use the `tf.data` module.\n",
      "WARNING:tensorflow:From C:\\Users\\drgmh\\anaconda3\\envs\\tensorflow\\lib\\site-packages\\tensorflow\\python\\training\\input.py:191: add_queue_runner (from tensorflow.python.training.queue_runner_impl) is deprecated and will be removed in a future version.\n",
      "Instructions for updating:\n",
      "To construct input pipelines, use the `tf.data` module.\n",
      "WARNING:tensorflow:From C:\\Users\\drgmh\\anaconda3\\envs\\tensorflow\\lib\\site-packages\\object_detection\\inference\\detection_inference.py:37: TFRecordReader.__init__ (from tensorflow.python.ops.io_ops) is deprecated and will be removed in a future version.\n",
      "Instructions for updating:\n",
      "Queue-based input pipelines have been replaced by `tf.data`. Use `tf.data.TFRecordDataset`.\n",
      "WARNING:tensorflow:From C:\\Users\\drgmh\\AppData\\Local\\Temp\\ipykernel_14744\\748811382.py:18: start_queue_runners (from tensorflow.python.training.queue_runner_impl) is deprecated and will be removed in a future version.\n",
      "Instructions for updating:\n",
      "To construct input pipelines, use the `tf.data` module.\n",
      "INFO:tensorflow:Processed 0 images...\n",
      "INFO:tensorflow:Processed 10 images...\n",
      "INFO:tensorflow:Processed 20 images...\n",
      "INFO:tensorflow:Processed 30 images...\n",
      "INFO:tensorflow:Processed 40 images...\n",
      "INFO:tensorflow:Processed 50 images...\n",
      "INFO:tensorflow:Processed 60 images...\n",
      "INFO:tensorflow:Processed 70 images...\n",
      "INFO:tensorflow:Processed 80 images...\n",
      "INFO:tensorflow:Processed 90 images...\n",
      "Finished processing  98  records Started: 1661531130.4022467 Finished: 1661531195.1176476 Duration: 64.71540093421936 Time per image: 0.6603612340226466\n"
     ]
    }
   ],
   "source": [
    "run_inference(GROUND_TRUTH_TFRECORD,MODEL_FILE,DETECTION_TFRECORD)\n",
    "\n"
   ]
  },
  {
   "cell_type": "code",
   "execution_count": 14,
   "id": "b4acf300",
   "metadata": {},
   "outputs": [
    {
     "name": "stdout",
     "output_type": "stream",
     "text": [
      "in calculate detections.tfrecord\n"
     ]
    }
   ],
   "source": [
    "IOU_THRESHOLD=.5\n",
    "confusion_matrix,categories=calculate_confusion(DETECTION_TFRECORD,LABEL_MAP_FILE,CONFIDENCE_THRESHOLD,IOU_THRESHOLD)"
   ]
  },
  {
   "cell_type": "code",
   "execution_count": 15,
   "id": "ef212b06",
   "metadata": {
    "scrolled": false
   },
   "outputs": [
    {
     "name": "stdout",
     "output_type": "stream",
     "text": [
      "UK 4 Species - Reference Data Only - metrics against BM 1\n",
      "Precision/recall Table\n",
      "     category  precision_@0.5IOU  recall_@0.5IOU\n",
      "0       alnus           1.000000        0.691176\n",
      "1     corylus           0.791667        0.703704\n",
      "2    fraxinus           0.681818        0.652174\n",
      "3  lycopodium           0.962264        0.879310\n",
      "4       tilia           0.857143        0.750000\n",
      "            alnus  corylus  fraxinus  lycopodium  tilia    FN\n",
      "alnus        47.0     10.0       0.0         1.0    0.0  10.0\n",
      "corylus       0.0     38.0       2.0         0.0    0.0  14.0\n",
      "fraxinus      0.0      0.0      15.0         1.0    1.0   6.0\n",
      "lycopodium    0.0      0.0       5.0        51.0    0.0   2.0\n",
      "tilia         0.0      0.0       0.0         0.0    6.0   2.0\n",
      "FP            0.0      0.0       0.0         0.0    0.0   0.0\n"
     ]
    },
    {
     "data": {
      "image/png": "[encoded data removed]",
      "text/plain": [
       "<Figure size 576x576 with 2 Axes>"
      ]
     },
     "metadata": {
      "needs_background": "light"
     },
     "output_type": "display_data"
    }
   ],
   "source": [
    "display(confusion_matrix, categories, OUTPUT_CONFUSION_DATA,METRICS_TITLE)\n",
    "plot_confusion(confusion_matrix, categories,OUTPUT_CONFUSION_DATA)"
   ]
  },
  {
   "cell_type": "code",
   "execution_count": null,
   "id": "1998143b",
   "metadata": {},
   "outputs": [],
   "source": []
  }
 ],
 "metadata": {
  "kernelspec": {
   "display_name": "Python 3 (ipykernel)",
   "language": "python",
   "name": "python3"
  },
  "language_info": {
   "codemirror_mode": {
    "name": "ipython",
    "version": 3
   },
   "file_extension": ".py",
   "mimetype": "text/x-python",
   "name": "python",
   "nbconvert_exporter": "python",
   "pygments_lexer": "ipython3",
   "version": "3.9.12"
  }
 },
 "nbformat": 4,
 "nbformat_minor": 5
}
